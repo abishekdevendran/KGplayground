{
 "cells": [
  {
   "cell_type": "code",
   "execution_count": 99,
   "metadata": {},
   "outputs": [
    {
     "data": {
      "text/plain": [
       "True"
      ]
     },
     "execution_count": 99,
     "metadata": {},
     "output_type": "execute_result"
    }
   ],
   "source": [
    "# load env\n",
    "from dotenv import load_dotenv, find_dotenv\n",
    "load_dotenv(find_dotenv())"
   ]
  },
  {
   "cell_type": "code",
   "execution_count": 100,
   "metadata": {},
   "outputs": [],
   "source": [
    "from langchain_community.document_loaders import WebBaseLoader\n",
    "from langchain.pydantic_v1 import BaseModel, Field\n",
    "from langchain_community.embeddings import OllamaEmbeddings\n",
    "from langchain_community.vectorstores import FAISS\n",
    "from langchain.text_splitter import RecursiveCharacterTextSplitter\n",
    "from langchain_openai.embeddings import OpenAIEmbeddings\n",
    "from typing import List\n",
    "import os\n",
    "\n",
    "def getRetriever(tool_url: str):\n",
    "    print(\"Loading retriever for \" + tool_url)\n",
    "    key = tool_url.replace(\"/\", \"_\").replace(\":\", \"_\")\n",
    "    # embeddings = OllamaEmbeddings()\n",
    "    embeddings = OpenAIEmbeddings()\n",
    "    # if the vectorstore already exists, load it\n",
    "    if os.path.exists(\"./vectorstores/\" + key):\n",
    "        vectorstore = FAISS.load_local(\n",
    "            \"./vectorstores/\" + key, embeddings, index_name=key)\n",
    "        retriever = vectorstore.as_retriever()\n",
    "        return retriever\n",
    "    # use the web base loader to get the search results\n",
    "    loader = WebBaseLoader(tool_url)\n",
    "    data = loader.load()\n",
    "    # create a retriever out of the data\n",
    "    text_splitter = RecursiveCharacterTextSplitter(\n",
    "        chunk_size=1000,\n",
    "        chunk_overlap=200,\n",
    "        length_function=len,\n",
    "        is_separator_regex=False,\n",
    "    )\n",
    "    docs = text_splitter.split_documents(data)\n",
    "    vectorstore = FAISS.from_documents(docs, embeddings)\n",
    "    # store the embeddings locally\n",
    "    vectorstore.save_local(\"./vectorstores/\" + key, key)\n",
    "    retriever = vectorstore.as_retriever()\n",
    "    # get the search results\n",
    "    return retriever"
   ]
  },
  {
   "cell_type": "code",
   "execution_count": 101,
   "metadata": {},
   "outputs": [],
   "source": [
    "class Response(BaseModel):\n",
    "    \"\"\"Final response to the question being asked\"\"\"\n",
    "    tool_name: str = Field(..., description=\"Name of the tool\")\n",
    "    web_url: str = Field(..., description=\"URL of the tool\")\n",
    "    tool_function: str = Field(..., description=\"Function of the tool\")\n",
    "    tool_features: str= Field(..., description=\"Features of the tool\")\n",
    "    business_function: str = Field(..., description=\"Business function of the tool\")\n",
    "    users: str = Field(..., description=\"Target users of the tool\")\n",
    "    pricing: str = Field(..., description=\"Pricing of the tool\")\n",
    "    hq_location_city: str = Field(..., description=\"Headquarters location of the tool\")\n",
    "    hq_location_country: str = Field(..., description=\"Headquarters location of the tool\")\n",
    "    hq_location_state: str = Field(..., description=\"Headquarters location of the tool\")\n",
    "    key_clients: str = Field(..., description=\"Key clients of the tool\")"
   ]
  },
  {
   "cell_type": "code",
   "execution_count": 102,
   "metadata": {},
   "outputs": [],
   "source": [
    "tool_urls=[\n",
    "  \"https://www.bardeen.ai/\"\n",
    "]"
   ]
  },
  {
   "cell_type": "code",
   "execution_count": 103,
   "metadata": {},
   "outputs": [],
   "source": [
    "# custom parsing logic\n",
    "import json\n",
    "from langchain_core.agents import AgentActionMessageLog, AgentFinish\n",
    "\n",
    "\n",
    "def parse(output):\n",
    "    print(\"Output: \",output)\n",
    "    # If no function was invoked, return to user\n",
    "    if \"function_call\" not in output.additional_kwargs:\n",
    "        return AgentFinish(return_values={\"output\": output.content}, log=output.content)\n",
    "\n",
    "    # Parse out the function call\n",
    "    function_call = output.additional_kwargs[\"function_call\"]\n",
    "    name = function_call[\"name\"]\n",
    "    inputs = json.loads(function_call[\"arguments\"])\n",
    "\n",
    "    # If the Response function was invoked, return to the user with the function inputs\n",
    "    if name == \"Response\":\n",
    "        return AgentFinish(return_values=inputs, log=str(function_call))\n",
    "    # Otherwise, return an agent action\n",
    "    else:\n",
    "        return AgentActionMessageLog(\n",
    "            tool=name, tool_input=inputs, log=\"\", message_log=[output]\n",
    "        )"
   ]
  },
  {
   "cell_type": "code",
   "execution_count": 104,
   "metadata": {},
   "outputs": [],
   "source": [
    "from langchain.agents import AgentExecutor\n",
    "from langchain.agents.format_scratchpad import format_to_openai_function_messages\n",
    "from langchain_core.prompts import ChatPromptTemplate, MessagesPlaceholder, HumanMessagePromptTemplate, SystemMessagePromptTemplate\n",
    "from langchain_core.messages import SystemMessage\n",
    "\n",
    "representative = {'id': 1, 'tool_name': '10web.io', 'website': '10web.io', 'tool_function': 'Speech from text, Text from Speech', 'business_function': 'Sales, Recruiting, Marketing', 'industries_served': 'IT, E-commerce, Research, Media', 'years_in_operation': 'Less than one year', 'twitter': 'https://twitter.com/10Web_io', 'num_twitter': '12,300', 'linkenin': 'https://www.linkedin.com/company/10web/', 'num_linkedin': '7,001', 'num_employees': '51-250', 'revenue': '$10M-$50M', 'hq_location_city': 'San Francisco', 'hq_location_state': 'California', 'hq_location_country': 'US', 'key_clients': 'GoDaddy, HostGator, Wix, Amazon, Google', 'overview': 'The 10Web AI Website Builder is a tool that automates website building using the latest generative technologies. Build professional and original websites from the ground up in minutes, with content unique to your business using minimal resources.', 'users': 'Artists, Bloggers, Developers, Content Creators, Students, Gamers', 'pricing': 'AI Starter $5/month $60/annually\\n AI Premium $8/month $90/annnually\\n AI Ultimate $12/month $135/annually\\n One week free trial', 'tool_features': 'AI website builder, AI ecommerce website builder, Automated hosting, Page speed booster, AI SEO tool, AI assistant, AI business name generator, AI marketing stategy generator', 'integrations': 'Whatsapp, Telegram, Facebook, Drive, Notion, Slack, Zapier', 'logo': 'https://logo.clearbit.com/10web.io'}\n",
    "\n",
    "prompt = ChatPromptTemplate.from_messages(\n",
    "    [\n",
    "        SystemMessage(\n",
    "            content=\"You are a smart AI tools expert called Fortune Cookie. Use the tools available to you to answer as comprehensively as possible. If any field doesn't have sufficient information, you can fill it with 'Unspecified'.\"\n",
    "        ),\n",
    "        SystemMessage(\n",
    "            content=\"An example tool response is provided for example: \"+json.dumps(representative)\n",
    "        ),\n",
    "        HumanMessagePromptTemplate.from_template(\"{input}\"),\n",
    "        MessagesPlaceholder(variable_name=\"agent_scratchpad\"),\n",
    "    ]\n",
    ")"
   ]
  },
  {
   "cell_type": "code",
   "execution_count": 105,
   "metadata": {},
   "outputs": [],
   "source": [
    "from langchain_community.chat_models import ChatOllama\n",
    "from langchain_experimental.llms.ollama_functions import OllamaFunctions\n",
    "from langchain_openai.chat_models import ChatOpenAI\n",
    "\n",
    "# llm = ChatOllama(model=\"mistral\", temperature=0)\n",
    "# llm = OllamaFunctions(model=\"mistral\")\n",
    "llm = ChatOpenAI(model=\"gpt-4\", temperature=0)"
   ]
  },
  {
   "cell_type": "code",
   "execution_count": 106,
   "metadata": {},
   "outputs": [
    {
     "name": "stdout",
     "output_type": "stream",
     "text": [
      "Loading retriever for https://www.bardeen.ai/\n",
      "Bound llm with tools\n",
      "Created agent\n",
      "Created agent executor\n",
      "\n",
      "\n",
      "\u001b[1m> Entering new AgentExecutor chain...\u001b[0m\n",
      "Output:  content='' additional_kwargs={'function_call': {'arguments': '{\\n  \"query\": \"Bardeen AI\"\\n}', 'name': 'tool-info-retriever'}}\n",
      "\u001b[32;1m\u001b[1;3m\u001b[0m\u001b[36;1m\u001b[1;3mBardeen AI: Workflow Task Automation Software\n",
      "\n",
      "\n",
      "\n",
      "\n",
      "\n",
      "\n",
      "\n",
      "\n",
      "\n",
      "\n",
      "\n",
      "\n",
      "\n",
      "\n",
      "\n",
      "\n",
      "\n",
      "Product\n",
      "\n",
      "download the extensionFor ChromeJoin over 200k usersPlatform OverviewHow it worksInstall the extension, find a workflow, automate awayPlatform capabilitiesDiscover what AI-powered automations can do for youRelease notesGet the latest details on product releasesSETUP YOUR WORKFLOWMagic boxGenerate workflows with everyday languageWorkflow templatesThousands of workflows, ready to use in one clickNo-code builderAssemble workflows with customizable building blocksLatestN.E.A.T. selling in 2024: close more with AI workflow automationAccelerate NEAT selling in 2024. Bardeen can automate repetitive workflows. Our AI solves tedious tasks. Free forever. 14-day premium trial included.See moreSolutions\n",
      "\n",
      "Announcing Bardeen 2.0Make AI work for you with proactive automationEffortlessly automate tasks in apps you use for work. No clunky builders or complex interfaces,  just tell Bardeen what you want to do.Get started for freeThe #1 AI Automation Extension for ChromeIncrease impactSave timeLeverage AIhow does bardeen work?Your proactive teammate — doing the busywork to save you timeGet started for freeIntegrate your apps and websitesUse data and events in one app to automate another. Bardeen supports an increasing library of powerful integrations.Perform tasks & actionsBardeen completes tasks in apps and websites you use for work, so you don't have to - filling forms, sending messages, or even crafting detailed reports.Combine it all to create workflowsWorkflows are a series of actions triggered by you or a change in a connected app. They automate repetitive tasks you normally perform manually - saving you time.Finally, an automation platform built for those actually doing the\n",
      "\n",
      "MiscellaneousAI Automation GuideNotion Automation HubDream Job HubStartup School OSIntegration RequestFeature RequestBug ReportDownloadBardeen is named a High Performer for Workflow Management and Productivity Bots© Copyright 2024 Bardeen Inc. All rights reserved.Privacy PolicySecurity & PrivacyTerms of ServiceCookie PolicyBy clicking “Accept”, you agree to the storing of cookies. View our Privacy Policy for more information.AcceptDenyPreferences\n",
      "\n",
      "Resource LibraryWorkflow TemplatesBrowse the collection of pre-built automationsAll IntegrationsSee all the integrationsBlogGet the latest product updates and automation tipsGet HelpKnowledge CenterLearn how to use BardeenCommunityAsk questions and meet other usersContactGet in touch with usCompanyAbout usMore about us and the team behind BardeenThe ManifestoHow it started and where we're goingCareersWe’re building the future of workLatestN.E.A.T. selling in 2024: close more with AI workflow automationSee morePricingGet Bardeen freeAdd to ChromeHello 👋Announcing Bardeen 2.0Make AI work for you withproactive  automation\u001b[0mOutput:  content='' additional_kwargs={'function_call': {'arguments': '{\\n  \"tool_name\": \"Bardeen AI\",\\n  \"web_url\": \"https://www.bardeen.ai/\",\\n  \"tool_function\": \"Workflow Task Automation Software\",\\n  \"tool_features\": \"Automate tasks in apps, Integrate apps and websites, Perform tasks & actions, Create workflows\",\\n  \"business_function\": \"Workflow Management, Productivity\",\\n  \"users\": \"Professionals who want to automate their repetitive tasks\",\\n  \"pricing\": \"Free with a 14-day premium trial\",\\n  \"hq_location_city\": \"Unspecified\",\\n  \"hq_location_country\": \"Unspecified\",\\n  \"hq_location_state\": \"Unspecified\",\\n  \"key_clients\": \"Unspecified\"\\n}', 'name': 'Response'}}\n",
      "\u001b[32;1m\u001b[1;3m{'arguments': '{\\n  \"tool_name\": \"Bardeen AI\",\\n  \"web_url\": \"https://www.bardeen.ai/\",\\n  \"tool_function\": \"Workflow Task Automation Software\",\\n  \"tool_features\": \"Automate tasks in apps, Integrate apps and websites, Perform tasks & actions, Create workflows\",\\n  \"business_function\": \"Workflow Management, Productivity\",\\n  \"users\": \"Professionals who want to automate their repetitive tasks\",\\n  \"pricing\": \"Free with a 14-day premium trial\",\\n  \"hq_location_city\": \"Unspecified\",\\n  \"hq_location_country\": \"Unspecified\",\\n  \"hq_location_state\": \"Unspecified\",\\n  \"key_clients\": \"Unspecified\"\\n}', 'name': 'Response'}\u001b[0m\n",
      "\n",
      "\u001b[1m> Finished chain.\u001b[0m\n"
     ]
    }
   ],
   "source": [
    "# for each tool url, get the retriever\n",
    "from langchain.tools.retriever import create_retriever_tool\n",
    "for url in tool_urls:\n",
    "    retriever = getRetriever(url)\n",
    "    retriever_tool = create_retriever_tool(\n",
    "        retriever,\n",
    "        \"tool-info-retriever\",\n",
    "        \"Query this retriever to get any available information on the current tool\",\n",
    "    )\n",
    "    llm_with_tools = llm.bind_functions([retriever_tool, Response])\n",
    "    print(\"Bound llm with tools\")\n",
    "    agent = (\n",
    "        {\n",
    "            \"input\": lambda x: x[\"input\"],\n",
    "            # Format agent scratchpad from intermediate steps\n",
    "            \"agent_scratchpad\": lambda x: format_to_openai_function_messages(\n",
    "                x[\"intermediate_steps\"]\n",
    "            ),\n",
    "        }\n",
    "        | prompt\n",
    "        | llm_with_tools\n",
    "        | parse\n",
    "    )\n",
    "    print(\"Created agent\")\n",
    "    agent_executor = AgentExecutor(\n",
    "        tools=[retriever_tool], agent=agent, verbose=True)\n",
    "    print(\"Created agent executor\")\n",
    "    agent_executor.invoke(\n",
    "        {\"input\": \"Tell me about Bardeen AI\"}\n",
    "    )"
   ]
  }
 ],
 "metadata": {
  "kernelspec": {
   "display_name": ".venv",
   "language": "python",
   "name": "python3"
  },
  "language_info": {
   "codemirror_mode": {
    "name": "ipython",
    "version": 3
   },
   "file_extension": ".py",
   "mimetype": "text/x-python",
   "name": "python",
   "nbconvert_exporter": "python",
   "pygments_lexer": "ipython3",
   "version": "3.10.13"
  }
 },
 "nbformat": 4,
 "nbformat_minor": 2
}
